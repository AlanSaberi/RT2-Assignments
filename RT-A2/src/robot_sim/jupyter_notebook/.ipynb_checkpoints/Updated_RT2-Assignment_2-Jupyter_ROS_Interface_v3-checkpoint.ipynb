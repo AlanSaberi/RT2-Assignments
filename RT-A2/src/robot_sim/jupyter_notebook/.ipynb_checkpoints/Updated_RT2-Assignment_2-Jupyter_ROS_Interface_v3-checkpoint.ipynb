{
 "cells": [
  {
   "cell_type": "markdown",
   "id": "8316c865",
   "metadata": {},
   "source": [
    "### Author: Saeed Abdollahi Taromsari-S5397691"
   ]
  },
  {
   "cell_type": "markdown",
   "id": "7662caa0",
   "metadata": {},
   "source": [
    "# Import Packages & Initialization"
   ]
  },
  {
   "cell_type": "code",
   "execution_count": 1,
   "id": "403d2f17",
   "metadata": {
    "scrolled": true
   },
   "outputs": [
    {
     "data": {
      "text/html": [
       "<style>div.output_scroll { height: 30em; border: 20px solid blue;}</style>"
      ],
      "text/plain": [
       "<IPython.core.display.HTML object>"
      ]
     },
     "metadata": {},
     "output_type": "display_data"
    }
   ],
   "source": [
    "%matplotlib tk\n",
    "\n",
    "# Python Packages\n",
    "import sys\n",
    "import os\n",
    "import time\n",
    "from threading import Thread\n",
    "from IPython.core.display import display, HTML\n",
    "display(HTML(\"<style>div.output_scroll { height: 30em; border: 20px solid blue;}</style>\"))\n",
    "\n",
    "# ROS Package\"\n",
    "import rospy\n",
    "import actionlib\n",
    "import actionlib.msg\n",
    "\n",
    "from nav_msgs.msg import Odometry\n",
    "from geometry_msgs.msg import PoseStamped\n",
    "from robot_sim.msg import OdoSensor\n",
    "from sensor_msgs.msg import LaserScan\n",
    "from robot_sim.msg import PlanningAction, PlanningGoal, PlanningActionFeedback\n",
    "\n",
    "# Other Packages\n",
    "import matplotlib.pyplot as plt\n",
    "from matplotlib.animation import FuncAnimation\n",
    "from IPython.display import display\n",
    "from ipywidgets import Button, Layout, ButtonStyle, GridBox, VBox, HBox, Label, Text \n",
    "\n",
    "# Global Variables\n",
    "goal_x = 0.0\n",
    "goal_y = 0.0\n",
    "robot_x = None\n",
    "robot_y = None\n",
    "goals_reached = 0\n",
    "goals_cancelled = 0\n",
    "odoMsg = OdoSensor()\n",
    "\n",
    "client = None\n",
    "gui = None\n",
    "counter = 0\n",
    "\n",
    "update_rate = 100\n",
    "draw_rate = 10 * update_rate\n",
    "\n",
    "colors = [\"green\", \"orange\", \"red\"]\n",
    "regions_ = {\n",
    "    'right': 0.0,\n",
    "    'fright': 0.0,\n",
    "    'front': 0.0,\n",
    "    'fleft': 0.0,\n",
    "    'left': 0.0,\n",
    "}"
   ]
  },
  {
   "cell_type": "markdown",
   "id": "2f19b109",
   "metadata": {},
   "source": [
    "# Create the User Interface"
   ]
  },
  {
   "cell_type": "markdown",
   "id": "47606a1c",
   "metadata": {},
   "source": [
    "# Run the ROS Application"
   ]
  },
  {
   "cell_type": "code",
   "execution_count": 2,
   "id": "6a1ffb13",
   "metadata": {},
   "outputs": [],
   "source": [
    "# Create a Cloent for Action Server\n",
    "def createClient():\n",
    "    try:#Trys to create an action-client\n",
    "        #Creates an action-client\n",
    "        client = actionlib.SimpleActionClient('/reaching_goal', PlanningAction)\n",
    "    except rospy.ROSInterruptException:#If th process failed, show an error message\n",
    "        print(\"Could not create the client\", file=sys.stderr) \n",
    "    return client\n",
    "\n",
    "# Send Goal to the Action Server\n",
    "def sendGoal(client, x, y):\n",
    "    target_pose = PoseStamped()\n",
    "    \n",
    "    try:#Trys to create a goal and snd it to the action-server\n",
    "        # Waits until the action server has started up and started listening for goals\n",
    "        client.wait_for_server()\n",
    "        \n",
    "       #Creates a goal to send to the action server.\n",
    "        target_pose.pose.position.x = x\n",
    "        target_pose.pose.position.y = y       \n",
    "        goal = PlanningGoal(target_pose)\n",
    "\n",
    "        #Sends the goal to the action server\n",
    "        client.send_goal(goal)\n",
    "    except rospy.ServiceException as e: #If the process failed, show an error message\n",
    "        print(\"Service call failed: %s\"%e)\n",
    "\n",
    "# Receive the Odometry Data\n",
    "def setOdoMessage(msg):\n",
    "    global robot_x, robot_y, counter, trajectory_x, trajectory_y\n",
    "    #Fills the custom odoMsg object by the odemetry data\n",
    "    robot_x = msg.pose.pose.position.x\n",
    "    robot_y = msg.pose.pose.position.y\n",
    " \n",
    "    counter +=1 \n",
    "    if counter == update_rate:\n",
    "        updateGUI()\n",
    "        counter = 0\n",
    "\n",
    "# Receive the Laser Scanner Data\n",
    "def clbk_laser(msg):\n",
    "    global regions_, counter\n",
    "    regions_ = {\n",
    "        'right':  min(min(msg.ranges[0:143]), 10),\n",
    "        'fright': min(min(msg.ranges[144:287]), 10),\n",
    "        'front':  min(min(msg.ranges[288:431]), 10),\n",
    "        'fleft':  min(min(msg.ranges[432:575]), 10),\n",
    "        'left':   min(min(msg.ranges[576:713]), 10),\n",
    "    }\n",
    "    if counter == update_rate:\n",
    "        updateGUI()\n",
    "\n",
    "# Receive the Goal Summary Data\n",
    "def updateGoalSummary(msg):\n",
    "    global goals_reached\n",
    "    global goals_cancelled\n",
    "\n",
    "    #Check the state value of the 'PlanningActionFeedback' message\n",
    "    state = msg.feedback.stat\n",
    "    if state == \"Target reached!\":#Update the goals_reached\n",
    "        goals_reached = goals_reached + 1\n",
    "\n",
    "    if state == \"Target cancelled!\":#Update the goals_cancelled\n",
    "        goals_cancelled = goals_cancelled + 1  \n",
    "        \n",
    "    vis2.goal_callback(goals_reached, goals_cancelled)\n",
    "\n",
    "# The main function of ROS application\n",
    "def main():\n",
    "    global client\n",
    "    \n",
    "    # Create the GUI\n",
    "    rospy.init_node('jupyter_node')\n",
    "\n",
    "    # Create a ROS Client\n",
    "    client = createClient()\n",
    "\n",
    "    #Creates a subscriber to receive the 'Odometry' message\n",
    "    odoMessageSubscriber = rospy.Subscriber(\"odom\", Odometry, setOdoMessage)\n",
    "    \n",
    "    #Creates a subscriber to receive the 'PlanningActionFeedback' message\n",
    "    goalSummarySubscriber = rospy.Subscriber(\"reaching_goal/feedback\", PlanningActionFeedback, updateGoalSummary)\n",
    "\n",
    "    # Creates a subscriber to receive the 'Laser' message\n",
    "    sub = rospy.Subscriber('/scan', LaserScan, clbk_laser)\n",
    "      \n",
    "if __name__ == \"__main__\":\n",
    "    main()\n"
   ]
  },
  {
   "cell_type": "code",
   "execution_count": null,
   "id": "572244ae",
   "metadata": {},
   "outputs": [],
   "source": []
  },
  {
   "cell_type": "code",
   "execution_count": null,
   "id": "9331f0bd",
   "metadata": {},
   "outputs": [],
   "source": []
  }
 ],
 "metadata": {
  "kernelspec": {
   "display_name": "Python 3 (ipykernel)",
   "language": "python",
   "name": "python3"
  },
  "language_info": {
   "codemirror_mode": {
    "name": "ipython",
    "version": 3
   },
   "file_extension": ".py",
   "mimetype": "text/x-python",
   "name": "python",
   "nbconvert_exporter": "python",
   "pygments_lexer": "ipython3",
   "version": "3.8.5"
  }
 },
 "nbformat": 4,
 "nbformat_minor": 5
}
